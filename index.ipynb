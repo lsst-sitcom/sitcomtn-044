{
 "cells": [
  {
   "cell_type": "markdown",
   "id": "0c8d9ad5",
   "metadata": {},
   "source": [
    "<br>Last Verified to Run: **2022-07-14**\n",
    "\n",
    "<br>Software Versions:\n",
    "  - `ts_wep`: **v2.3.0**\n",
    "  - `lsst_distrib`: **w_2022_19**\n",
    "  \n",
    "## Goal\n",
    "Take donut images from corner wavefront simulation including sky background. Vary the field information provided to the `ts_wep` `Algorithm.py`, and investigate how that affects the shape of donut masks, and Zernike estimation. Compare to the baseline (no offset).\n",
    "\n",
    "\n",
    "## Setup\n",
    "    \n",
    "   * access to NCSA lsst-devl nodes \n",
    "   * working installation of ts_wep package ( see the following [notes](https://confluence.lsstcorp.org/display/LTS/Onboarding+to+LSST+AOS) for additional info on how to install and build the AOS packages)\n",
    "    \n",
    "It is assumed that `$USER` is the username and `ts_wep` is installed in `$PATH_TO_TS_WEP`.\n",
    "\n",
    "At least once after cloning the `ts_analysis_notebooks` repo one needs to run the `setup` and `scons` commands."
   ]
  },
  {
   "cell_type": "markdown",
   "id": "70db5a75",
   "metadata": {},
   "source": [
    "## Imports"
   ]
  },
  {
   "cell_type": "code",
   "execution_count": null,
   "id": "5069f242",
   "metadata": {},
   "outputs": [],
   "source": [
    "import yaml\n",
    "import numpy as np\n",
    "import matplotlib.pyplot as plt\n",
    "import matplotlib.lines as mlines\n",
    "import matplotlib as mpl\n",
    "from matplotlib import rcParams \n",
    "\n",
    "from lsst.ts.wep.cwfs.Instrument import Instrument\n",
    "from lsst.ts.wep.cwfs.CompensableImage import CompensableImage\n",
    "from lsst.ts.wep.Utility import (\n",
    "    getConfigDir,\n",
    "    DonutTemplateType,\n",
    "    DefocalType,\n",
    "    CamType,\n",
    "    getCamType,\n",
    "    getDefocalDisInMm,\n",
    ")\n",
    "import os\n",
    "\n",
    "from lsst.daf import butler as dafButler\n",
    "from lsst.ts.wep.task.DonutStamps import DonutStamp, DonutStamps\n",
    "from lsst.ts.wep.task.EstimateZernikesCwfsTask import (\n",
    "    EstimateZernikesCwfsTask,\n",
    "    EstimateZernikesCwfsTaskConfig,\n",
    ")\n",
    "\n",
    "from lsst.ts.wep.cwfs.Instrument import Instrument\n",
    "from lsst.ts.wep.cwfs.Algorithm import Algorithm\n",
    "from lsst.ts.wep.cwfs.CompensableImage import CompensableImage\n",
    "from lsst.ts.wep.Utility import DefocalType, CamType, CentroidFindType\n",
    "from scipy.ndimage import rotate"
   ]
  },
  {
   "cell_type": "code",
   "execution_count": null,
   "id": "97c64933",
   "metadata": {},
   "outputs": [],
   "source": [
    "rcParams['ytick.labelsize'] = 15\n",
    "rcParams['xtick.labelsize'] = 15\n",
    "rcParams['axes.labelsize'] = 20\n",
    "rcParams['axes.linewidth'] = 2\n",
    "rcParams['font.size'] = 15\n",
    "rcParams['axes.titlesize'] = 18"
   ]
  },
  {
   "cell_type": "code",
   "execution_count": null,
   "id": "374d46c3",
   "metadata": {},
   "outputs": [],
   "source": []
  }
 ],
 "metadata": {
  "kernelspec": {
   "display_name": "Python 3 (ipykernel)",
   "language": "python",
   "name": "python3"
  },
  "language_info": {
   "codemirror_mode": {
    "name": "ipython",
    "version": 3
   },
   "file_extension": ".py",
   "mimetype": "text/x-python",
   "name": "python",
   "nbconvert_exporter": "python",
   "pygments_lexer": "ipython3",
   "version": "3.10.4"
  }
 },
 "nbformat": 4,
 "nbformat_minor": 5
}
